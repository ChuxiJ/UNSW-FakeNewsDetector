{
 "cells": [
  {
   "cell_type": "code",
   "execution_count": 42,
   "metadata": {},
   "outputs": [],
   "source": [
    "import numpy as np\n",
    "import pandas as pd\n",
    "import jieba\n",
    "import datetime\n",
    "import tensorflow as tf\n",
    "import pkuseg\n",
    "import nltk\n",
    "from sklearn.feature_extraction.text import TfidfTransformer\n",
    "from sklearn.feature_extraction.text import CountVectorizer\n",
    "from sklearn.feature_extraction.text import TfidfVectorizer\n",
    "from kashgari.embeddings import BERTEmbedding"
   ]
  },
  {
   "cell_type": "code",
   "execution_count": 43,
   "metadata": {},
   "outputs": [
    {
     "name": "stdout",
     "output_type": "stream",
     "text": [
      "(38471, 3)\n"
     ]
    }
   ],
   "source": [
    "train = pd.read_csv(\"task1/train.csv\")\n",
    "print(train.shape)\n",
    "\n",
    "sentences = train.iloc[:, 1]\n",
    "sentences.head()\n",
    "seg = pkuseg.pkuseg()\n",
    "\n",
    "sentences = sentences.apply(lambda x: ' '.join(seg.cut(x)))"
   ]
  },
  {
   "cell_type": "code",
   "execution_count": 46,
   "metadata": {},
   "outputs": [
    {
     "name": "stdout",
     "output_type": "stream",
     "text": [
      "这是第1个document\n",
      "不虞有詐 0.0\n",
      "不行 0.0\n",
      "不要 0.0\n",
      "不要紧 0.0\n",
      "不要脸 0.0\n",
      "不见 0.0\n",
      "不见不散 0.0\n",
      "不见其人 0.0\n",
      "不见得 0.0\n",
      "不规则 0.0\n",
      "\n",
      "\n",
      "这是第2个document\n",
      "不虞有詐 0.0\n",
      "不行 0.0\n",
      "不要 0.0\n",
      "不要紧 0.0\n",
      "不要脸 0.0\n",
      "不见 0.0\n",
      "不见不散 0.0\n",
      "不见其人 0.0\n",
      "不见得 0.0\n",
      "不规则 0.0\n",
      "\n",
      "\n",
      "这是第3个document\n",
      "不虞有詐 0.0\n",
      "不行 0.0\n",
      "不要 0.0\n",
      "不要紧 0.0\n",
      "不要脸 0.0\n",
      "不见 0.0\n",
      "不见不散 0.0\n",
      "不见其人 0.0\n",
      "不见得 0.0\n",
      "不规则 0.0\n",
      "\n",
      "\n",
      "这是第4个document\n",
      "不虞有詐 0.0\n",
      "不行 0.0\n",
      "不要 0.1218772229367939\n",
      "不要紧 0.0\n",
      "不要脸 0.0\n",
      "不见 0.0\n",
      "不见不散 0.0\n",
      "不见其人 0.0\n",
      "不见得 0.0\n",
      "不规则 0.0\n",
      "\n",
      "\n",
      "这是第5个document\n",
      "不虞有詐 0.0\n",
      "不行 0.0\n",
      "不要 0.0\n",
      "不要紧 0.0\n",
      "不要脸 0.0\n",
      "不见 0.0\n",
      "不见不散 0.0\n",
      "不见其人 0.0\n",
      "不见得 0.0\n",
      "不规则 0.0\n",
      "\n",
      "\n"
     ]
    }
   ],
   "source": [
    "corpus = sentences.tolist()\n",
    "\n",
    "vectorizer = CountVectorizer()\n",
    "transformer = TfidfTransformer()\n",
    "weight = transformer.fit_transform(vectorizer.fit_transform(corpus))\n",
    "\n",
    "word = vectorizer.get_feature_names()\n",
    "\n",
    "# 选开头的5个document试试\n",
    "for i in range(0, 5):\n",
    "    print(f'这是第{i+1}个document')\n",
    "    # 词还没处理，有好多奇怪的数字\n",
    "    for j in range(9990, 10000):\n",
    "        print(word[j], weight[i, j])\n",
    "    print('\\n')"
   ]
  },
  {
   "cell_type": "code",
   "execution_count": null,
   "metadata": {},
   "outputs": [],
   "source": []
  }
 ],
 "metadata": {
  "kernelspec": {
   "display_name": "Python 3",
   "language": "python",
   "name": "python3"
  },
  "language_info": {
   "codemirror_mode": {
    "name": "ipython",
    "version": 3
   },
   "file_extension": ".py",
   "mimetype": "text/x-python",
   "name": "python",
   "nbconvert_exporter": "python",
   "pygments_lexer": "ipython3",
   "version": "3.7.4"
  }
 },
 "nbformat": 4,
 "nbformat_minor": 2
}
